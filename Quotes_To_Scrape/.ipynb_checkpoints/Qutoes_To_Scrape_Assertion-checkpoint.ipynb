{
 "cells": [
  {
   "cell_type": "code",
   "execution_count": 1,
   "id": "9388884a-eca7-4238-b537-56fa8725dd0c",
   "metadata": {},
   "outputs": [],
   "source": [
    "from selenium import webdriver\n",
    "from selenium.webdriver.common.by import By\n",
    "from selenium.webdriver.support.select import Select\n",
    "from selenium.webdriver.support.ui import WebDriverWait\n",
    "import time\n",
    "from selenium.webdriver.support import expected_conditions as EC"
   ]
  },
  {
   "cell_type": "code",
   "execution_count": 2,
   "id": "8a254f5c-90b5-4e79-aa73-b33e8a5d39e7",
   "metadata": {},
   "outputs": [],
   "source": [
    "def setup():\n",
    "    driver = webdriver.Chrome()\n",
    "    driver.get(\"https://quotes.toscrape.com/\")\n",
    "    return driver\n",
    "\n",
    "def teardown(driver):\n",
    "    driver.quit()"
   ]
  },
  {
   "cell_type": "code",
   "execution_count": 3,
   "id": "9924c463-9b4f-4308-a632-30afa73ab287",
   "metadata": {},
   "outputs": [],
   "source": [
    "# helper functions\n",
    "def login_link(driver):\n",
    "     wait = WebDriverWait(driver,5)\n",
    "     return wait.until(EC.element_to_be_clickable((By.XPATH,'//a[contains(text(), \"Login\")]')))\n",
    "\n",
    "def enter_username(driver,username):\n",
    "    wait = WebDriverWait(driver,5)\n",
    "    username_field = wait.until(EC.presence_of_element_located((By.XPATH,'//*[@id=\"username\"]')))\n",
    "    username_field.send_keys(username)\n",
    "\n",
    "def enter_password(driver,password):\n",
    "    wait = WebDriverWait(driver,5)\n",
    "    password_field = wait.until(EC.presence_of_element_located((By.XPATH,'//*[@id=\"password\"]')))\n",
    "    password_field.send_keys(password)\n",
    "\n",
    "def login_Btn(driver):    \n",
    "    wait = WebDriverWait(driver,5)\n",
    "    return wait.until(EC.element_to_be_clickable((By.XPATH,'//input[@type=\"submit\"]')))\n",
    "\n",
    "def logout_link(driver):\n",
    "    wait = WebDriverWait(driver,5)\n",
    "    return wait.until(EC.element_to_be_clickable((By.XPATH,'//a[contains(text(),\"Logout\")]')))\n",
    "    \n",
    "def next_page_link(driver):\n",
    "    wait = WebDriverWait(driver,5)\n",
    "    return wait.until(EC.presence_of_element_located((By.XPATH, '//li[@class=\"next\"]/a')))\n",
    "     "
   ]
  },
  {
   "cell_type": "code",
   "execution_count": 4,
   "id": "e9527cbb-059a-4d12-aa94-2f95172d708d",
   "metadata": {},
   "outputs": [],
   "source": [
    "def login_with_valid_credentials():\n",
    "    driver = setup()\n",
    "    wait = WebDriverWait(driver, 10)\n",
    "    expected_result = \"Logout\"\n",
    "    \n",
    "    login_link(driver).click()\n",
    "    enter_username(driver,\"Test User\")\n",
    "    enter_password(driver,\"K@thmandu123\")\n",
    "    login_Btn(driver).click()\n",
    "    actual_result = logout_link(driver).text\n",
    "    \n",
    "    try:\n",
    "        assert actual_result == expected_result, \"Login with valid credentials Failed\"\n",
    "        print(\"Test Passed: User is logged in.\")\n",
    "    except AssertionError as e:\n",
    "        print(e)\n",
    "        \n",
    "    \n",
    "    teardown(driver)\n"
   ]
  },
  {
   "cell_type": "code",
   "execution_count": null,
   "id": "ea8e6228-4d1d-4ca0-b9af-1695ae7c17d5",
   "metadata": {},
   "outputs": [
    {
     "name": "stdout",
     "output_type": "stream",
     "text": [
      "Test Passed: User is logged in.\n"
     ]
    }
   ],
   "source": [
    "login_with_valid_credentials()"
   ]
  },
  {
   "cell_type": "code",
   "execution_count": 99,
   "id": "eebad5bc-7641-4fc3-a2b7-78ef0012b874",
   "metadata": {},
   "outputs": [],
   "source": [
    "def login_with_invalid_username():\n",
    "    driver = setup()\n",
    "    wait = WebDriverWait(driver, 10)\n",
    "    expected_result = \"https://quotes.toscrape.com/login\"\n",
    "    \n",
    "    login_link(driver).click()\n",
    "    enter_username(driver,\"1234567!@#$%^\")\n",
    "    enter_password(driver,\"K@thmandu123\")\n",
    "    login_Btn(driver).click()\n",
    "    time.sleep(2)\n",
    "    \n",
    "    try:\n",
    "        actual_result = driver.current_url\n",
    "        assert actual_result == expected_result, \"Test Result: Fail - User is logged in even with invalid username\"\n",
    "        print(\"Test Result: Pass - User is not logged in with invalid username.\")\n",
    "    except AssertionError as e:\n",
    "        print(e)\n",
    "        \n",
    "    \n",
    "    teardown(driver)\n"
   ]
  },
  {
   "cell_type": "code",
   "execution_count": 100,
   "id": "5bf5543b-e23e-4d4f-9706-6e2ae95d69bf",
   "metadata": {},
   "outputs": [
    {
     "name": "stdout",
     "output_type": "stream",
     "text": [
      "Test Result: Fail - User is logged in even with invalid username\n"
     ]
    }
   ],
   "source": [
    "login_with_invalid_username()"
   ]
  },
  {
   "cell_type": "code",
   "execution_count": 101,
   "id": "7c85c327-aee1-4807-be91-931cfc034d43",
   "metadata": {},
   "outputs": [],
   "source": [
    "def login_with_invalid_password():\n",
    "    driver = setup()\n",
    "    wait = WebDriverWait(driver, 10)\n",
    "    expected_result = \"https://quotes.toscrape.com/login\"\n",
    "    \n",
    "    login_link(driver).click()\n",
    "    enter_username(driver,\"Test User\")\n",
    "    enter_password(driver,\"abcdef\")\n",
    "    login_Btn(driver).click()\n",
    "    \n",
    "    try:\n",
    "        actual_result = driver.current_url\n",
    "        assert actual_result == expected_result, \"Test Result: Fail - User is logged in even with invalid password\"\n",
    "        print(\"Test Result: Pass - User is not logged in with invalid password.\")\n",
    "    except AssertionError as e:\n",
    "        print(e)\n",
    "        \n",
    "    \n",
    "    teardown(driver)\n"
   ]
  },
  {
   "cell_type": "code",
   "execution_count": 102,
   "id": "49fddefb-8f38-44a8-8c3d-de36a4aa0938",
   "metadata": {},
   "outputs": [
    {
     "name": "stdout",
     "output_type": "stream",
     "text": [
      "Test Result: Fail - User is logged in even with invalid password\n"
     ]
    }
   ],
   "source": [
    "login_with_invalid_password()"
   ]
  },
  {
   "cell_type": "code",
   "execution_count": 107,
   "id": "3661f763-fbfe-4743-b533-40d91e32ae28",
   "metadata": {},
   "outputs": [],
   "source": [
    "def login_with_invalid_credentials():\n",
    "    driver = setup()\n",
    "    wait = WebDriverWait(driver, 10)\n",
    "    expected_result = \"https://quotes.toscrape.com/login\"\n",
    "    \n",
    "    login_link(driver).click()\n",
    "    enter_username(driver,\"1234567!@#$%^\")\n",
    "    enter_password(driver,\"abcdef\")\n",
    "    login_Btn(driver).click()\n",
    "    time.sleep(2)\n",
    "    try:\n",
    "        actual_result = driver.current_url\n",
    "        assert actual_result == expected_result, \"Test Result: Fail - User is logged in even with invalid credentials\"\n",
    "        print(\"Test Result: Pass - User is not logged in with invalid credentials.\")\n",
    "    except AssertionError as e:\n",
    "        print(e)\n",
    "        \n",
    "    \n",
    "    teardown(driver)\n"
   ]
  },
  {
   "cell_type": "code",
   "execution_count": 108,
   "id": "0aa7e0c1-458e-47d9-a976-85ac1d48f565",
   "metadata": {},
   "outputs": [
    {
     "name": "stdout",
     "output_type": "stream",
     "text": [
      "Test Result: Fail - User is logged in even with invalid credentials\n"
     ]
    }
   ],
   "source": [
    "login_with_invalid_credentials()"
   ]
  },
  {
   "cell_type": "code",
   "execution_count": 111,
   "id": "a6467949-868c-4855-9cb0-281d33e87745",
   "metadata": {},
   "outputs": [],
   "source": [
    "def login_with_empty_credentials():\n",
    "    driver = setup()\n",
    "    wait = WebDriverWait(driver, 10)\n",
    "    expected_result = \"Error while logging in: please, provide your username.\"\n",
    "    login_link(driver).click()\n",
    "    login_Btn(driver).click() \n",
    "\n",
    "    try:\n",
    "        actual_result = wait.until(EC.presence_of_element_located((By.XPATH,'//p[@class=\"error\"]'))).text\n",
    "        assert actual_result == expected_result, \"Test Result: Fail - User is logged in even with empty credentials\"\n",
    "        print(\"Test Result: Pass - User is not logged in with empty credentials.\")\n",
    "    except AssertionError as e:\n",
    "        print(e)\n",
    "        \n",
    "    \n",
    "    teardown(driver)\n"
   ]
  },
  {
   "cell_type": "code",
   "execution_count": 112,
   "id": "a79ce043-1a0d-4d29-a1c8-82786a1cbb2c",
   "metadata": {},
   "outputs": [
    {
     "name": "stdout",
     "output_type": "stream",
     "text": [
      "Test Result: Pass - User is not logged in with empty credentials.\n"
     ]
    }
   ],
   "source": [
    "login_with_empty_credentials()"
   ]
  },
  {
   "cell_type": "code",
   "execution_count": 113,
   "id": "e276e336-cbaa-48f7-80e6-d3f541d50e22",
   "metadata": {},
   "outputs": [],
   "source": [
    "def login_with_empty_username():\n",
    "    driver = setup()\n",
    "    wait = WebDriverWait(driver, 10)\n",
    "    expected_result = \"Error while logging in: please, provide your username.\"\n",
    "    \n",
    "    login_link(driver).click()\n",
    "    enter_password(driver,\"K@thmandu123\")\n",
    "    login_Btn(driver).click() \n",
    "    driver.implicitly_wait(2)\n",
    "    try:\n",
    "        actual_result = wait.until(EC.presence_of_element_located((By.XPATH,'//p[@class=\"error\"]'))).text\n",
    "        assert actual_result == expected_result, \"Test Result: Fail - User is logged in even with empty username\"\n",
    "        print(\"Test Result: Pass - User is not logged in with empty username.\")\n",
    "    except AssertionError as e:\n",
    "        print(e)\n",
    "        \n",
    "    \n",
    "    teardown(driver)\n"
   ]
  },
  {
   "cell_type": "code",
   "execution_count": 114,
   "id": "68cfd822-5d07-4e02-b48c-5dbfa822daf2",
   "metadata": {},
   "outputs": [
    {
     "name": "stdout",
     "output_type": "stream",
     "text": [
      "Test Result: Pass - User is not logged in with empty username.\n"
     ]
    }
   ],
   "source": [
    "login_with_empty_username()"
   ]
  },
  {
   "cell_type": "code",
   "execution_count": 115,
   "id": "6b7b067b-46ed-4f79-89ea-269679a775a7",
   "metadata": {},
   "outputs": [],
   "source": [
    "def login_with_empty_password():\n",
    "    driver = setup()\n",
    "    wait = WebDriverWait(driver, 10)\n",
    "    expected_result = \"Error while logging in: please, provide your username.\"\n",
    "    \n",
    "    login_link(driver).click()\n",
    "    enter_username(driver,\"Test User\")\n",
    "    login_Btn(driver).click() \n",
    "    time.sleep(2)\n",
    "    try:\n",
    "        actual_result = driver.current_url\n",
    "        assert actual_result == expected_result, \"Test Result: Fail - User is logged in even with empty password.\"\n",
    "        print(\"Test Result: Pass - User is not logged in with empty password.\")\n",
    "    except AssertionError as e:\n",
    "        print(e)\n",
    "        \n",
    "    \n",
    "    teardown(driver)\n"
   ]
  },
  {
   "cell_type": "code",
   "execution_count": 116,
   "id": "5d5a06b2-e3c5-4bf3-9c51-8526ded414ea",
   "metadata": {},
   "outputs": [
    {
     "name": "stdout",
     "output_type": "stream",
     "text": [
      "Test Result: Fail - User is logged in even with empty password.\n"
     ]
    }
   ],
   "source": [
    "login_with_empty_password()"
   ]
  },
  {
   "cell_type": "code",
   "execution_count": 82,
   "id": "f2153dff-f2e5-4868-8805-60a9d2f72f13",
   "metadata": {},
   "outputs": [],
   "source": [
    "def total_number_of_quotes():\n",
    "    driver = setup()\n",
    "    wait = WebDriverWait(driver, 10)\n",
    "    totalQuotes = 0\n",
    "    expectedResult = 100\n",
    "    while True:\n",
    "        \n",
    "        numberOfQuotesPerPage = 0\n",
    "        quotes = wait.until(EC.presence_of_all_elements_located((By.XPATH, '//div[@class=\"quote\"]')))\n",
    "        numberOfQuotesPerPage = len(quotes)\n",
    "        totalQuotes = totalQuotes + numberOfQuotesPerPage\n",
    "         \n",
    "        try:\n",
    "            next_page_link().click()\n",
    "        except Exception as e:\n",
    "            break  \n",
    "        \n",
    "    actualResult = totalQuotes\n",
    "    \n",
    "    \n",
    "    try:\n",
    "        assert actualResult == expectedResult, \"Total number quotes is not equal to 100 :)\"\n",
    "        print(\"Test Passed: 100/100 quotes\")\n",
    "    except AssertionError as e:\n",
    "        print(e)\n",
    "        \n",
    "    teardown(driver)"
   ]
  },
  {
   "cell_type": "code",
   "execution_count": 26,
   "id": "5222d966-cdab-4537-9494-61f9504f0662",
   "metadata": {},
   "outputs": [
    {
     "name": "stdout",
     "output_type": "stream",
     "text": [
      "Test Passed: 100/100 quotes\n"
     ]
    }
   ],
   "source": [
    "total_number_of_quotes()"
   ]
  },
  {
   "cell_type": "code",
   "execution_count": 36,
   "id": "ab732712-9281-4dbe-a9d5-fc0b3ab2aced",
   "metadata": {},
   "outputs": [],
   "source": [
    "def all_quote_block_contains_quote():\n",
    "    driver = setup()\n",
    "    wait = WebDriverWait(driver,5)\n",
    "    expected_result = True\n",
    "    quotes_present = False\n",
    "\n",
    "    while True:\n",
    "        quotes = wait.until(EC.presence_of_all_elements_located((By.XPATH, '//span[@itemprop=\"text\"]')))\n",
    "        for quote in quotes:\n",
    "            quotes_present = quote.is_displayed()\n",
    "         \n",
    "        try:\n",
    "            next_page_link().click()\n",
    "        except Exception as e:\n",
    "            break  \n",
    "        \n",
    "    actual_result = quotes_present\n",
    "    \n",
    "    \n",
    "    try:\n",
    "        assert actual_result == expected_result, \"Test Result: Fail - All Quote Blocks do not contain quotes.\"\n",
    "        print(\"Test Result: Pass - All Quotes Block contains quotes.\")\n",
    "    except AssertionError as e:\n",
    "        print(e)"
   ]
  },
  {
   "cell_type": "code",
   "execution_count": 37,
   "id": "1889101d-6c4b-4b6f-814d-565d49ea6f90",
   "metadata": {},
   "outputs": [
    {
     "name": "stdout",
     "output_type": "stream",
     "text": [
      "Test Result: Pass - All Quotes Block contains quotes.\n"
     ]
    }
   ],
   "source": [
    "all_quote_block_contains_quote()"
   ]
  },
  {
   "cell_type": "code",
   "execution_count": 40,
   "id": "21853b9c-1cf6-451a-bffc-ae5bd3db0336",
   "metadata": {},
   "outputs": [],
   "source": [
    "def all_quote_block_contains_author_name():\n",
    "    driver = setup()\n",
    "    wait = WebDriverWait(driver,5)\n",
    "    expected_result = True\n",
    "    authors_present = False\n",
    "\n",
    "    while True:\n",
    "        authors = wait.until(EC.presence_of_all_elements_located((By.XPATH, '//small[@itemprop=\"author\"]')))\n",
    "        for author in authors:\n",
    "            authors_present = author.is_displayed()\n",
    "         \n",
    "        try:\n",
    "            next_page_link(driver).click()\n",
    "        except Exception as e:\n",
    "            break  \n",
    "        \n",
    "    actual_result = authors_present\n",
    "    \n",
    "    \n",
    "    try:\n",
    "        assert actual_result == expected_result, \"Test Result: Fail - All Quote Blocks do not contain author name.\"\n",
    "        print(\"Test Result: Pass - All Quotes Block contains author name.\")\n",
    "    except AssertionError as e:\n",
    "        print(e)"
   ]
  },
  {
   "cell_type": "code",
   "execution_count": 41,
   "id": "50e0df95-9ab0-4905-8a1b-5e255f164487",
   "metadata": {},
   "outputs": [
    {
     "name": "stdout",
     "output_type": "stream",
     "text": [
      "Test Result: Pass - All Quotes Block contains author name.\n"
     ]
    }
   ],
   "source": [
    "all_quote_block_contains_author_name()"
   ]
  },
  {
   "cell_type": "code",
   "execution_count": 80,
   "id": "e62d6a36-7ef0-4643-9b26-d70327c6e86e",
   "metadata": {},
   "outputs": [],
   "source": [
    "def all_quote_block_contains_author_about_link():\n",
    "    driver = setup()\n",
    "    wait = WebDriverWait(driver,5)\n",
    "    expected_result = True\n",
    "    about_link_present = False\n",
    "\n",
    "    while True:\n",
    "        about_links = wait.until(EC.presence_of_all_elements_located((By.XPATH, '//a[contains(text(),\"(about)\")]')))\n",
    "        for link in about_links:\n",
    "            about_link_present = link.is_displayed()\n",
    "         \n",
    "        try:\n",
    "            next_page_link(driver).click()\n",
    "        except Exception as e:\n",
    "            break  \n",
    "        \n",
    "    actual_result = about_link_present\n",
    "    \n",
    "    \n",
    "    try:\n",
    "        assert actual_result == expected_result, \"Test Result: Fail - All Quote Blocks do not contain author about link.\"\n",
    "        print(\"Test Result: Pass - All Quotes Block contains author about link.\")\n",
    "    except AssertionError as e:\n",
    "        print(e)"
   ]
  },
  {
   "cell_type": "code",
   "execution_count": 81,
   "id": "7fa8adbe-1fd3-40fb-8f01-6641a7f31ba4",
   "metadata": {},
   "outputs": [
    {
     "name": "stdout",
     "output_type": "stream",
     "text": [
      "Test Result: Pass - All Quotes Block contains author about link.\n"
     ]
    }
   ],
   "source": [
    "all_quote_block_contains_author_about_link()"
   ]
  },
  {
   "cell_type": "code",
   "execution_count": 77,
   "id": "de73a88b-efdd-43b4-a200-4dd95d1dba76",
   "metadata": {},
   "outputs": [],
   "source": [
    "def all_quote_block_contains_tags():\n",
    "    driver = setup()\n",
    "    wait = WebDriverWait(driver,5)\n",
    "    expected_result = True\n",
    "    tags_present = False\n",
    "\n",
    "    while True:\n",
    "        tags = wait.until(EC.presence_of_all_elements_located((By.XPATH, '//div[@class=\"tags\"]//a[@class=\"tag\"]')))\n",
    "        for tag in tags:\n",
    "           tags_present = tag.is_displayed()\n",
    "         \n",
    "        try:\n",
    "            next_page_link(driver).click()\n",
    "           \n",
    "        except Exception as e:\n",
    "            break  \n",
    "        \n",
    "    actual_result = tags_present\n",
    "    \n",
    "    \n",
    "    try:\n",
    "        assert actual_result == expected_result, \"Test Result: Fail - All Quote Blocks do not contain quote tags.\"\n",
    "        print(\"Test Result: Pass - All Quotes Block contains quote tags.\")\n",
    "    except AssertionError as e:\n",
    "        print(e)"
   ]
  },
  {
   "cell_type": "code",
   "execution_count": 78,
   "id": "5cae18c0-5c48-4265-aaab-3177552b0d1c",
   "metadata": {},
   "outputs": [
    {
     "name": "stdout",
     "output_type": "stream",
     "text": [
      "Test Result: Pass - All Quotes Block contains quote tags.\n"
     ]
    }
   ],
   "source": [
    "all_quote_block_contains_tags()"
   ]
  },
  {
   "cell_type": "code",
   "execution_count": 48,
   "id": "dd80e182-6685-465c-aa4b-58145b9873a9",
   "metadata": {},
   "outputs": [],
   "source": [
    "def homepage_displays_top_ten_tags():\n",
    "    driver = setup()\n",
    "    wait = WebDriverWait(driver,5)\n",
    "    expected_result = 10\n",
    "\n",
    "    top_ten_quotes = wait.until(EC.presence_of_all_elements_located((By.XPATH,'//span[@class = \"tag-item\"]')))\n",
    "    actual_result = len(top_ten_quotes)\n",
    "\n",
    "    try:\n",
    "        assert actual_result == expected_result, \"Test Result: Fail - Doesn't contain top ten tags.\"\n",
    "        print(\"Test Result: Pass - Contains top 10 quotes.\")\n",
    "    except AssertionError as e:\n",
    "        print(e)"
   ]
  },
  {
   "cell_type": "code",
   "execution_count": 49,
   "id": "672603ed-99d4-4545-a83d-68074a6d78d6",
   "metadata": {},
   "outputs": [
    {
     "name": "stdout",
     "output_type": "stream",
     "text": [
      "Test Result: Pass - Contains top 10 quotes.\n"
     ]
    }
   ],
   "source": [
    "homepage_displays_top_ten_tags()"
   ]
  },
  {
   "cell_type": "code",
   "execution_count": 122,
   "id": "18f4c842-011f-45d1-9a27-408019c6d601",
   "metadata": {},
   "outputs": [],
   "source": [
    "def author_details_page_contains_author_details():\n",
    "    driver = setup()\n",
    "    wait = WebDriverWait(driver,5)\n",
    "    driver.get(\"https://quotes.toscrape.com/author/Albert-Einstein/\")\n",
    "    expected_result = True\n",
    "    \n",
    "    author_title = wait.until(EC.presence_of_element_located((By.XPATH,'//h3[@class=\"author-title\"]')))\n",
    "    title_present = author_title.is_displayed()\n",
    "\n",
    "    author_dob = wait.until(EC.presence_of_element_located((By.XPATH,'//span[@class=\"author-born-date\"]')))\n",
    "    dob_present = author_dob.is_displayed()\n",
    "\n",
    "    author_born_location = wait.until(EC.presence_of_element_located((By.XPATH,'//span[@class=\"author-born-location\"]')))\n",
    "    location_present = author_born_location.is_displayed()\n",
    "\n",
    "    author_description = wait.until(EC.presence_of_element_located((By.XPATH,'//div[@class=\"author-description\"]')))\n",
    "    description_present = author_description.is_displayed()\n",
    "                                                              \n",
    "    actual_result = title_present and dob_present and location_present and description_present\n",
    "\n",
    "    try:\n",
    "        assert expected_result == actual_result, \"AUthor page contains title, dob, birth location and description\"\n",
    "        print(\"Author page contains all the details of the author\")\n",
    "    except AssertionError as e:\n",
    "        print(e)\n",
    "    "
   ]
  },
  {
   "cell_type": "code",
   "execution_count": 123,
   "id": "d0832977-d1fe-4ebd-be1a-de931f3fcfc1",
   "metadata": {},
   "outputs": [
    {
     "name": "stdout",
     "output_type": "stream",
     "text": [
      "Author page contains all the details of the author\n"
     ]
    }
   ],
   "source": [
    "author_details_page_contains_author_details()"
   ]
  }
 ],
 "metadata": {
  "kernelspec": {
   "display_name": "selenium_env",
   "language": "python",
   "name": "selenium_env"
  },
  "language_info": {
   "codemirror_mode": {
    "name": "ipython",
    "version": 3
   },
   "file_extension": ".py",
   "mimetype": "text/x-python",
   "name": "python",
   "nbconvert_exporter": "python",
   "pygments_lexer": "ipython3",
   "version": "3.12.9"
  }
 },
 "nbformat": 4,
 "nbformat_minor": 5
}
