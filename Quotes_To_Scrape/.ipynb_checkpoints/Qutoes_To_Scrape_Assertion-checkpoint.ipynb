{
 "cells": [
  {
   "cell_type": "code",
   "execution_count": 281,
   "id": "9388884a-eca7-4238-b537-56fa8725dd0c",
   "metadata": {},
   "outputs": [],
   "source": [
    "from selenium import webdriver\n",
    "from selenium.webdriver.common.by import By\n",
    "from selenium.webdriver.support.select import Select\n",
    "from selenium.webdriver.support.ui import WebDriverWait\n",
    "import time\n",
    "from selenium.webdriver.support import expected_conditions as EC\n",
    "import unittest\n",
    "from selenium.common.exceptions import TimeoutException"
   ]
  },
  {
   "cell_type": "code",
   "execution_count": 148,
   "id": "8a254f5c-90b5-4e79-aa73-b33e8a5d39e7",
   "metadata": {
    "jupyter": {
     "source_hidden": true
    }
   },
   "outputs": [],
   "source": [
    "def setup():\n",
    "    driver = webdriver.Chrome()\n",
    "    driver.get(\"https://quotes.toscrape.com/\")\n",
    "    driver.maximize_window()\n",
    "    return driver\n",
    "\n",
    "def teardown(driver):\n",
    "    driver.quit()\n",
    "\n",
    "global test \n",
    "test = unittest.TestCase()"
   ]
  },
  {
   "cell_type": "code",
   "execution_count": 278,
   "id": "9924c463-9b4f-4308-a632-30afa73ab287",
   "metadata": {},
   "outputs": [],
   "source": [
    "# helper functions\n",
    "def login_link(driver):\n",
    "    wait = WebDriverWait(driver,5)\n",
    "    return wait.until(EC.element_to_be_clickable((By.XPATH,'//a[contains(text(), \"Login\")]')))\n",
    "\n",
    "def enter_username(driver,username):\n",
    "    wait = WebDriverWait(driver,5)\n",
    "    username_field = wait.until(EC.presence_of_element_located((By.XPATH,'//*[@id=\"username\"]')))\n",
    "    username_field.send_keys(username)\n",
    "\n",
    "def enter_password(driver,password):\n",
    "    wait = WebDriverWait(driver,5)\n",
    "    password_field = wait.until(EC.presence_of_element_located((By.XPATH,'//*[@id=\"password\"]')))\n",
    "    password_field.send_keys(password)\n",
    "\n",
    "def login_Btn(driver):    \n",
    "    wait = WebDriverWait(driver,5)\n",
    "    return wait.until(EC.element_to_be_clickable((By.XPATH,'//input[@type=\"submit\"]')))\n",
    "\n",
    "def logout_link(driver):\n",
    "    wait = WebDriverWait(driver,5)\n",
    "    return wait.until(EC.element_to_be_clickable((By.XPATH,'//a[contains(text(),\"Logout\")]')))\n",
    "    \n",
    "def next_page_link(driver):\n",
    "    wait = WebDriverWait(driver,5)\n",
    "    return wait.until(EC.presence_of_element_located((By.XPATH, '//li[@class=\"next\"]/a')))\n",
    "\n",
    "def login_error_msg(driver):\n",
    "    wait = WebDriverWait(driver,5)\n",
    "    return wait.until(EC.presence_of_element_located((By.XPATH,'//p[@class=\"error\"]')))\n",
    "\n",
    "def get_author_title(driver):\n",
    "    wait = WebDriverWait(driver,5)\n",
    "    return wait.until(EC.presence_of_element_located((By.XPATH,'//h3[@class=\"author-title\"]')))\n",
    "\n",
    "def get_author_dob(driver):\n",
    "    wait = WebDriverWait(driver,5)\n",
    "    return wait.until(EC.presence_of_element_located((By.XPATH,'//span[@class=\"author-born-date\"]')))\n",
    "\n",
    "def get_author_birth_location(driver):\n",
    "    wait = WebDriverWait(driver,5)\n",
    "    return wait.until(EC.presence_of_element_located((By.XPATH,'//span[@class=\"author-born-location\"]')))\n",
    "\n",
    "def get_author_description(driver):\n",
    "    wait = WebDriverWait(driver,5)\n",
    "    return wait.until(EC.presence_of_element_located((By.XPATH,'//div[@class=\"author-description\"]')))\n",
    "\n",
    "def get_top_ten_tags(driver):\n",
    "    wait = WebDriverWait(driver,5)\n",
    "    return wait.until(EC.presence_of_all_elements_located((By.XPATH,'//span/a[@class=\"tag\"]')))\n",
    "\n",
    "def get_tags_in_quote_block(driver):\n",
    "    wait = WebDriverWait(driver,5)\n",
    "    return wait.until(EC.presence_of_all_elements_located((By.XPATH, '//div[@class=\"tags\"]//a[@class=\"tag\"]')))\n",
    "\n",
    "def get_quote_block(driver):\n",
    "    wait = WebDriverWait(driver,5)\n",
    "    return wait.until(EC.presence_of_all_elements_located((By.XPATH, '//div[@class=\"quote\"]')))\n",
    "\n",
    "def get_a_quote_block(driver,block_num):\n",
    "    wait = WebDriverWait(driver,5)\n",
    "    return wait.until(EC.presence_of_all_elements_located((By.XPATH, f\"(//div[@class='quote'])[{block_num}]\")))\n",
    "\n",
    "def get_tags_in_a_quote_block(driver,num):\n",
    "    wait = WebDriverWait(driver,5)\n",
    "    return wait.until(EC.visibility_of_all_elements_located((By.XPATH,f\"(//div[@class = 'tags'])[{num}]//a\")))\n",
    "    "
   ]
  },
  {
   "cell_type": "code",
   "execution_count": 152,
   "id": "e9527cbb-059a-4d12-aa94-2f95172d708d",
   "metadata": {
    "jupyter": {
     "source_hidden": true
    }
   },
   "outputs": [],
   "source": [
    "def login_with_valid_credentials():\n",
    "    driver = setup()\n",
    "    expected_result = \"Logout\"\n",
    "    \n",
    "    login_link(driver).click()\n",
    "    enter_username(driver,\"Test User\")\n",
    "    enter_password(driver,\"K@thmandu123\")\n",
    "    login_Btn(driver).click()\n",
    "    actual_result = logout_link(driver).text\n",
    "    \n",
    "    # try:\n",
    "    #     assert actual_result == expected_result, \"Login with valid credentials Failed\"\n",
    "    #     print(\"Test Passed: User is logged in.\")\n",
    "    # except AssertionError as e:\n",
    "    #     print(e)\n",
    "\n",
    "    try:\n",
    "        test.assertEqual(actual_result,expected_result)\n",
    "        print(\"Test Pass\")\n",
    "    except AssertionError as e:\n",
    "        print(\"Test Fail\")\n",
    "        print(e)\n",
    "        \n",
    "    \n",
    "    teardown(driver)\n"
   ]
  },
  {
   "cell_type": "code",
   "execution_count": 160,
   "id": "ea8e6228-4d1d-4ca0-b9af-1695ae7c17d5",
   "metadata": {},
   "outputs": [
    {
     "name": "stdout",
     "output_type": "stream",
     "text": [
      "Test Pass\n"
     ]
    }
   ],
   "source": [
    "login_with_valid_credentials()"
   ]
  },
  {
   "cell_type": "code",
   "execution_count": 166,
   "id": "eebad5bc-7641-4fc3-a2b7-78ef0012b874",
   "metadata": {
    "jupyter": {
     "source_hidden": true
    }
   },
   "outputs": [],
   "source": [
    "def login_with_invalid_username():\n",
    "    driver = setup()\n",
    "    expected_result = \"https://quotes.toscrape.com/login\"\n",
    "    \n",
    "    login_link(driver).click()\n",
    "    enter_username(driver,\"1234567!@#$%^\")\n",
    "    enter_password(driver,\"K@thmandu123\")\n",
    "    login_Btn(driver).click()\n",
    "    time.sleep(2)\n",
    "    actual_result = driver.current_url\n",
    "    \n",
    "    # try:\n",
    "    #     \n",
    "    #     assert actual_result == expected_result, \"Test Result: Fail - User is logged in even with invalid username\"\n",
    "    #     print(\"Test Result: Pass - User is not logged in with invalid username.\")\n",
    "    # except AssertionError as e:\n",
    "    #     print(e)\n",
    "\n",
    "    try:\n",
    "        test.assertEqual(actual_result,expected_result)\n",
    "        print(\"Test Pass\")\n",
    "    except AssertionError as e:\n",
    "        print(\"Test Fail - User is logged in even with invalid username\")\n",
    "        print(e.args)\n",
    "    \n",
    "    teardown(driver)\n"
   ]
  },
  {
   "cell_type": "code",
   "execution_count": 167,
   "id": "5bf5543b-e23e-4d4f-9706-6e2ae95d69bf",
   "metadata": {},
   "outputs": [
    {
     "name": "stdout",
     "output_type": "stream",
     "text": [
      "Test Fail - User is logged in even with invalid username\n",
      "(\"'https://quotes.toscrape.com/' != 'https://quotes.toscrape.com/login'\\n- https://quotes.toscrape.com/\\n+ https://quotes.toscrape.com/login\\n?                             +++++\\n\",)\n"
     ]
    }
   ],
   "source": [
    "login_with_invalid_username()"
   ]
  },
  {
   "cell_type": "code",
   "execution_count": 170,
   "id": "7c85c327-aee1-4807-be91-931cfc034d43",
   "metadata": {
    "jupyter": {
     "source_hidden": true
    }
   },
   "outputs": [],
   "source": [
    "def login_with_invalid_password():\n",
    "    driver = setup()\n",
    "    expected_result = \"https://quotes.toscrape.com/login\"\n",
    "    \n",
    "    login_link(driver).click()\n",
    "    enter_username(driver,\"Test User\")\n",
    "    enter_password(driver,\"abcdef\")\n",
    "    login_Btn(driver).click()\n",
    "    time.sleep(1)\n",
    "    actual_result = driver.current_url\n",
    "    # try:\n",
    "    #     \n",
    "    #     assert actual_result == expected_result, \"Test Result: Fail - User is logged in even with invalid password\"\n",
    "    #     print(\"Test Result: Pass - User is not logged in with invalid password.\")\n",
    "    # except AssertionError as e:\n",
    "    #     print(e)\n",
    "\n",
    "    try:\n",
    "        test.assertEqual(actual_result,expected_result)\n",
    "        print(\"Test Pass\")\n",
    "    except AssertionError as e:\n",
    "        print(\"Test Fail - User is logged in even with invalid password\")\n",
    "        print(e.args)\n",
    "        \n",
    "    \n",
    "    teardown(driver)\n"
   ]
  },
  {
   "cell_type": "code",
   "execution_count": 171,
   "id": "49fddefb-8f38-44a8-8c3d-de36a4aa0938",
   "metadata": {},
   "outputs": [
    {
     "name": "stdout",
     "output_type": "stream",
     "text": [
      "Test Fail - User is logged in even with invalid password\n",
      "(\"'https://quotes.toscrape.com/' != 'https://quotes.toscrape.com/login'\\n- https://quotes.toscrape.com/\\n+ https://quotes.toscrape.com/login\\n?                             +++++\\n\",)\n"
     ]
    }
   ],
   "source": [
    "login_with_invalid_password()"
   ]
  },
  {
   "cell_type": "code",
   "execution_count": 173,
   "id": "3661f763-fbfe-4743-b533-40d91e32ae28",
   "metadata": {
    "jupyter": {
     "source_hidden": true
    }
   },
   "outputs": [],
   "source": [
    "def login_with_invalid_credentials():\n",
    "    driver = setup()\n",
    "    expected_result = \"https://quotes.toscrape.com/login\"\n",
    "    \n",
    "    login_link(driver).click()\n",
    "    enter_username(driver,\"1234567!@#$%^\")\n",
    "    enter_password(driver,\"abcdef\")\n",
    "    login_Btn(driver).click()\n",
    "    time.sleep(2)\n",
    "    actual_result = driver.current_url\n",
    "    # try:\n",
    "        \n",
    "    #     assert actual_result == expected_result, \"Test Result: Fail - User is logged in even with invalid credentials\"\n",
    "    #     print(\"Test Result: Pass - User is not logged in with invalid credentials.\")\n",
    "    # except AssertionError as e:\n",
    "    #     print(e)\n",
    "        \n",
    "    try:\n",
    "        test.assertEqual(actual_result,expected_result)\n",
    "        print(\"Test Pass\")\n",
    "    except AssertionError as e:\n",
    "        print(\"Test Fail\")\n",
    "        print(e.args)\n",
    "        \n",
    "    teardown(driver)\n"
   ]
  },
  {
   "cell_type": "code",
   "execution_count": 174,
   "id": "0aa7e0c1-458e-47d9-a976-85ac1d48f565",
   "metadata": {},
   "outputs": [
    {
     "name": "stdout",
     "output_type": "stream",
     "text": [
      "Test Fail\n",
      "(\"'https://quotes.toscrape.com/' != 'https://quotes.toscrape.com/login'\\n- https://quotes.toscrape.com/\\n+ https://quotes.toscrape.com/login\\n?                             +++++\\n\",)\n"
     ]
    }
   ],
   "source": [
    "login_with_invalid_credentials()"
   ]
  },
  {
   "cell_type": "code",
   "execution_count": 177,
   "id": "a6467949-868c-4855-9cb0-281d33e87745",
   "metadata": {
    "jupyter": {
     "source_hidden": true
    }
   },
   "outputs": [],
   "source": [
    "def login_with_empty_credentials():\n",
    "    driver = setup()\n",
    "    expected_result = \"Error while logging in: please, provide your username.\"\n",
    "    login_link(driver).click()\n",
    "    login_Btn(driver).click() \n",
    "    actual_result = login_error_msg(driver).text\n",
    "    # try:\n",
    "    #     \n",
    "    #     assert actual_result == expected_result, \"Test Result: Fail - User is logged in even with empty credentials\"\n",
    "    #     print(\"Test Result: Pass - User is not logged in with empty credentials.\")\n",
    "    # except AssertionError as e:\n",
    "    #     print(e)\n",
    "\n",
    "    try:\n",
    "        test.assertEqual(actual_result,expected_result)\n",
    "        print(\"Test Pass - User is not logged in with empty credentials\")\n",
    "    except:\n",
    "        print(\"Test Fail - User is logged in even with empty credentials\")\n",
    "        \n",
    "    \n",
    "    teardown(driver)\n"
   ]
  },
  {
   "cell_type": "code",
   "execution_count": 178,
   "id": "a79ce043-1a0d-4d29-a1c8-82786a1cbb2c",
   "metadata": {},
   "outputs": [
    {
     "name": "stdout",
     "output_type": "stream",
     "text": [
      "Test Pass - User is not logged in with empty credentials\n"
     ]
    }
   ],
   "source": [
    "login_with_empty_credentials()"
   ]
  },
  {
   "cell_type": "code",
   "execution_count": 180,
   "id": "e276e336-cbaa-48f7-80e6-d3f541d50e22",
   "metadata": {
    "jupyter": {
     "source_hidden": true
    }
   },
   "outputs": [],
   "source": [
    "def login_with_empty_username():\n",
    "    driver = setup()\n",
    "    expected_result = \"Error while logging in: please, provide your username.\"\n",
    "    \n",
    "    login_link(driver).click()\n",
    "    enter_password(driver,\"K@thmandu123\")\n",
    "    login_Btn(driver).click() \n",
    "    actual_result = login_error_msg(driver).text\n",
    "    # try:\n",
    "        \n",
    "    #     assert actual_result == expected_result, \"Test Result: Fail - User is logged in even with empty username\"\n",
    "    #     print(\"Test Result: Pass - User is not logged in with empty username.\")\n",
    "    # except AssertionError as e:\n",
    "    #     print(e)\n",
    "\n",
    "    try:\n",
    "        test.assertEqual(actual_result,expected_result)\n",
    "        print(\"Test Pass - User is not logged with empty username\")\n",
    "    except AssertionError as e:\n",
    "        print(\"Test Fail - User is logged in with empty username\")\n",
    "    \n",
    "    teardown(driver)\n"
   ]
  },
  {
   "cell_type": "code",
   "execution_count": 181,
   "id": "68cfd822-5d07-4e02-b48c-5dbfa822daf2",
   "metadata": {},
   "outputs": [
    {
     "name": "stdout",
     "output_type": "stream",
     "text": [
      "Test Pass - User is not logged with empty username\n"
     ]
    }
   ],
   "source": [
    "login_with_empty_username()"
   ]
  },
  {
   "cell_type": "code",
   "execution_count": 188,
   "id": "6b7b067b-46ed-4f79-89ea-269679a775a7",
   "metadata": {
    "jupyter": {
     "source_hidden": true
    }
   },
   "outputs": [],
   "source": [
    "def login_with_empty_password():\n",
    "    driver = setup()\n",
    "    \n",
    "    login_link(driver).click()\n",
    "    expected_result = driver.current_url\n",
    "    enter_username(driver,\"Test User\")\n",
    "    login_Btn(driver).click() \n",
    "    time.sleep(1)\n",
    "    actual_result = driver.current_url\n",
    "    # try:\n",
    "        \n",
    "    #     assert actual_result == expected_result, \"Test Result: Fail - User is logged in even with empty password.\"\n",
    "    #     print(\"Test Result: Pass - User is not logged in with empty password.\")\n",
    "    # except AssertionError as e:\n",
    "    #     print(e)\n",
    "\n",
    "    try:\n",
    "        test.assertEqual(actual_result,expected_result)\n",
    "        print(\"Test Pass - The user is not allowed to login with empty password field\")\n",
    "    except AssertionError as e:\n",
    "        print(\"Test Fail - The user is allowed to log in with empty password field\")\n",
    "        print(e.args)\n",
    "    \n",
    "    teardown(driver)\n"
   ]
  },
  {
   "cell_type": "code",
   "execution_count": 189,
   "id": "5d5a06b2-e3c5-4bf3-9c51-8526ded414ea",
   "metadata": {},
   "outputs": [
    {
     "name": "stdout",
     "output_type": "stream",
     "text": [
      "Test Fail - The user is allowed to log in with empty password field\n",
      "(\"'https://quotes.toscrape.com/' != 'https://quotes.toscrape.com/login'\\n- https://quotes.toscrape.com/\\n+ https://quotes.toscrape.com/login\\n?                             +++++\\n\",)\n"
     ]
    }
   ],
   "source": [
    "login_with_empty_password()"
   ]
  },
  {
   "cell_type": "code",
   "execution_count": 198,
   "id": "f2153dff-f2e5-4868-8805-60a9d2f72f13",
   "metadata": {
    "jupyter": {
     "source_hidden": true
    }
   },
   "outputs": [],
   "source": [
    "def total_number_of_quotes():\n",
    "    driver = setup()\n",
    "    wait = WebDriverWait(driver,5)\n",
    "    totalQuotes = 0\n",
    "    while True:\n",
    "        numberOfQuotesPerPage = 0\n",
    "        quotes = wait.until(EC.presence_of_all_elements_located((By.XPATH, '//div[@class=\"quote\"]')))\n",
    "        numberOfQuotesPerPage = len(quotes)\n",
    "        totalQuotes += numberOfQuotesPerPage\n",
    "         \n",
    "        try:\n",
    "            next_page_link(driver).click()\n",
    "        except Exception as e:\n",
    "            break  \n",
    "        \n",
    "    actualResult = totalQuotes\n",
    "    \n",
    "    \n",
    "    # try:\n",
    "    #     assert actualResult == expectedResult, \"Total number quotes is not equal to 100 :)\"\n",
    "    #     print(\"Test Passed: 100/100 quotes\")\n",
    "    # except AssertionError as e:\n",
    "    #     print(e)\n",
    "\n",
    "    try:\n",
    "        test.assertGreaterEqual(actualResult,100)\n",
    "        print(\"Test Pass - The number of quotes is greater than or equal to 100\")\n",
    "    except AssertionError as e:\n",
    "        print(\"Test Fail - The number of quotes is not greater than or equal to 100\")\n",
    "        print(e.args)\n",
    "        \n",
    "    teardown(driver)"
   ]
  },
  {
   "cell_type": "code",
   "execution_count": 199,
   "id": "5222d966-cdab-4537-9494-61f9504f0662",
   "metadata": {},
   "outputs": [
    {
     "name": "stdout",
     "output_type": "stream",
     "text": [
      "Test Pass - The number of quotes is greater than or equal to 100\n"
     ]
    }
   ],
   "source": [
    "total_number_of_quotes()"
   ]
  },
  {
   "cell_type": "code",
   "execution_count": 205,
   "id": "ab732712-9281-4dbe-a9d5-fc0b3ab2aced",
   "metadata": {
    "jupyter": {
     "source_hidden": true
    }
   },
   "outputs": [],
   "source": [
    "def all_quote_block_contains_quote():\n",
    "    driver = setup()\n",
    "    wait = WebDriverWait(driver,5)\n",
    "    quotes_present = False\n",
    "\n",
    "    while True:\n",
    "        quotes = wait.until(EC.presence_of_all_elements_located((By.XPATH, '//span[@itemprop=\"text\"]')))\n",
    "        for quote in quotes:\n",
    "            quotes_present = quote.is_displayed()\n",
    "            if(quotes_present == False):\n",
    "                break\n",
    "         \n",
    "        try:\n",
    "            next_page_link(driver).click()\n",
    "        except Exception as e:\n",
    "            break  \n",
    "        \n",
    "    actual_result = quotes_present\n",
    "    \n",
    "    \n",
    "    # try:\n",
    "    #     assert actual_result == expected_result, \"Test Result: Fail - All Quote Blocks do not contain quotes.\"\n",
    "    #     print(\"Test Result: Pass - All Quotes Block contains quotes.\")\n",
    "    # except AssertionError as e:\n",
    "    #     print(e)\n",
    "\n",
    "    try:\n",
    "        test.assertTrue(actual_result)\n",
    "        print(\"Test Pass - All quote blocks consist of quotes\")\n",
    "    except AssertionError as e:\n",
    "        print(\"Test Fail - All quote block do not consists of quotes\")\n",
    "        print(e.args)\n",
    "\n",
    "    teardown(driver)"
   ]
  },
  {
   "cell_type": "code",
   "execution_count": 206,
   "id": "1889101d-6c4b-4b6f-814d-565d49ea6f90",
   "metadata": {},
   "outputs": [
    {
     "name": "stdout",
     "output_type": "stream",
     "text": [
      "Test Pass - All quote blocks consist of quotes\n"
     ]
    }
   ],
   "source": [
    "all_quote_block_contains_quote()"
   ]
  },
  {
   "cell_type": "code",
   "execution_count": 203,
   "id": "21853b9c-1cf6-451a-bffc-ae5bd3db0336",
   "metadata": {
    "jupyter": {
     "source_hidden": true
    }
   },
   "outputs": [],
   "source": [
    "def all_quote_block_contains_author_name():\n",
    "    driver = setup()\n",
    "    wait = WebDriverWait(driver,5)\n",
    "    authors_present = False\n",
    "\n",
    "    while True:\n",
    "        authors = wait.until(EC.presence_of_all_elements_located((By.XPATH, '//small[@itemprop=\"author\"]')))\n",
    "        for author in authors:\n",
    "            authors_present = author.is_displayed()\n",
    "            if(authors_present == False):\n",
    "                break\n",
    "         \n",
    "        try:\n",
    "            next_page_link(driver).click()\n",
    "        except Exception as e:\n",
    "            break  \n",
    "        \n",
    "    actual_result = authors_present\n",
    "    \n",
    "    # try:\n",
    "    #     assert actual_result == expected_result, \"Test Result: Fail - All Quote Blocks do not contain author name.\"\n",
    "    #     print(\"Test Result: Pass - All Quotes Block contains author name.\")\n",
    "    # except AssertionError as e:\n",
    "    #     print(e)\n",
    "    try:\n",
    "        test.assertTrue(actual_result)\n",
    "        print(\"Test Pass - All quotes blocks contain author name\")\n",
    "    except AssertionError as e:\n",
    "        print(\"Test Fail - All quotes blocks do not contain author name\")\n",
    "        print(e.args)\n",
    "    \n",
    "    teardown(driver)"
   ]
  },
  {
   "cell_type": "code",
   "execution_count": 204,
   "id": "50e0df95-9ab0-4905-8a1b-5e255f164487",
   "metadata": {},
   "outputs": [
    {
     "name": "stdout",
     "output_type": "stream",
     "text": [
      "Test Pass - All quotes blocks contain author name\n"
     ]
    }
   ],
   "source": [
    "all_quote_block_contains_author_name()"
   ]
  },
  {
   "cell_type": "code",
   "execution_count": 207,
   "id": "e62d6a36-7ef0-4643-9b26-d70327c6e86e",
   "metadata": {
    "jupyter": {
     "source_hidden": true
    }
   },
   "outputs": [],
   "source": [
    "def all_quote_block_contains_author_about_link():\n",
    "    driver = setup()\n",
    "    wait = WebDriverWait(driver,5)\n",
    "    expected_result = True\n",
    "    about_link_present = False\n",
    "\n",
    "    while True:\n",
    "        about_links = wait.until(EC.presence_of_all_elements_located((By.XPATH, '//a[contains(text(),\"(about)\")]')))\n",
    "        for link in about_links:\n",
    "            about_link_present = link.is_displayed()\n",
    "            if(about_link_present == False):\n",
    "                break\n",
    "         \n",
    "        try:\n",
    "            next_page_link(driver).click()\n",
    "        except Exception as e:\n",
    "            break  \n",
    "        \n",
    "    actual_result = about_link_present\n",
    "    \n",
    "    \n",
    "    # try:\n",
    "    #     assert actual_result == expected_result, \"Test Result: Fail - All Quote Blocks do not contain author about link.\"\n",
    "    #     print(\"Test Result: Pass - All Quotes Block contains author about link.\")\n",
    "    # except AssertionError as e:\n",
    "    #     print(e)\n",
    "\n",
    "    try:\n",
    "        test.assertTrue(actual_result)\n",
    "        print(\"Test Pass - All quotes blocks contain author about link\")\n",
    "    except AssertionError as e:\n",
    "        print(\"Test Fail - All quotes blocks do not contain author about link\")\n",
    "        print(e.args)\n",
    "    \n",
    "    teardown(driver)\n",
    "    "
   ]
  },
  {
   "cell_type": "code",
   "execution_count": 208,
   "id": "7fa8adbe-1fd3-40fb-8f01-6641a7f31ba4",
   "metadata": {},
   "outputs": [
    {
     "name": "stdout",
     "output_type": "stream",
     "text": [
      "Test Pass - All quotes blocks contain author about link\n"
     ]
    }
   ],
   "source": [
    "all_quote_block_contains_author_about_link()"
   ]
  },
  {
   "cell_type": "code",
   "execution_count": 210,
   "id": "de73a88b-efdd-43b4-a200-4dd95d1dba76",
   "metadata": {
    "jupyter": {
     "source_hidden": true
    }
   },
   "outputs": [],
   "source": [
    "def all_quote_block_contains_tags():\n",
    "    driver = setup()\n",
    "    wait = WebDriverWait(driver,5)\n",
    "    tags_present = False\n",
    "\n",
    "    while True:\n",
    "        tags = get_tags_in_quote_block(driver)\n",
    "        for tag in tags:\n",
    "            tags_present = tag.is_displayed()\n",
    "            if(tags_present == False):\n",
    "                break\n",
    "         \n",
    "        try:\n",
    "            next_page_link(driver).click()\n",
    "           \n",
    "        except Exception as e:\n",
    "            break  \n",
    "        \n",
    "    actual_result = tags_present\n",
    "    \n",
    "    \n",
    "    # try:\n",
    "    #     assert actual_result == expected_result, \"Test Result: Fail - All Quote Blocks do not contain quote tags.\"\n",
    "    #     print(\"Test Result: Pass - All Quotes Block contains quote tags.\")\n",
    "    # except AssertionError as e:\n",
    "    #     print(e)\n",
    "\n",
    "    try:\n",
    "        test.assertTrue(actual_result)\n",
    "        print(\"Test Pass - All quotes blocks contain tags\")\n",
    "    except AssertionError as e:\n",
    "        print(\"Test Fail - All quotes blocks do not contain tags\")\n",
    "        print(e.args)\n",
    "    \n",
    "    teardown(driver)"
   ]
  },
  {
   "cell_type": "code",
   "execution_count": 211,
   "id": "5cae18c0-5c48-4265-aaab-3177552b0d1c",
   "metadata": {},
   "outputs": [
    {
     "name": "stdout",
     "output_type": "stream",
     "text": [
      "Test Pass - All quotes blocks contain tags\n"
     ]
    }
   ],
   "source": [
    "all_quote_block_contains_tags()"
   ]
  },
  {
   "cell_type": "code",
   "execution_count": 212,
   "id": "dd80e182-6685-465c-aa4b-58145b9873a9",
   "metadata": {
    "jupyter": {
     "source_hidden": true
    }
   },
   "outputs": [],
   "source": [
    "def homepage_displays_top_ten_tags():\n",
    "    driver = setup()\n",
    "\n",
    "    top_ten_quotes = get_top_ten_tags(driver)\n",
    "    actual_result = len(top_ten_quotes)\n",
    "\n",
    "    # try:\n",
    "    #     assert actual_result == expected_result, \"Test Result: Fail - Doesn't contain top ten tags.\"\n",
    "    #     print(\"Test Result: Pass - Contains top 10 quotes.\")\n",
    "    # except AssertionError as e:\n",
    "    #     print(e)\n",
    "\n",
    "    try:\n",
    "        test.assertEqual(actual_result,10)\n",
    "        print(\"Test Pass - The homepage conists of top 10 tags\")\n",
    "    except AssertionError as e:\n",
    "        print(\"Test Fail - The homepage doen't have top 10 tags\")\n",
    "        print(e.args)\n",
    "\n",
    "    teardown(driver)"
   ]
  },
  {
   "cell_type": "code",
   "execution_count": 213,
   "id": "672603ed-99d4-4545-a83d-68074a6d78d6",
   "metadata": {},
   "outputs": [
    {
     "name": "stdout",
     "output_type": "stream",
     "text": [
      "Test Pass - The homepage conists of top 10 tags\n"
     ]
    }
   ],
   "source": [
    "homepage_displays_top_ten_tags()"
   ]
  },
  {
   "cell_type": "code",
   "execution_count": 214,
   "id": "18f4c842-011f-45d1-9a27-408019c6d601",
   "metadata": {
    "jupyter": {
     "source_hidden": true
    }
   },
   "outputs": [],
   "source": [
    "def author_details_page_contains_author_details():\n",
    "    driver = setup()\n",
    "    wait = WebDriverWait(driver,5)\n",
    "    driver.get(\"https://quotes.toscrape.com/author/Albert-Einstein/\")\n",
    "    \n",
    "    author_title = get_author_title(driver)\n",
    "    title_present = author_title.is_displayed()\n",
    "\n",
    "    author_dob = get_author_dob(driver)\n",
    "    dob_present = author_dob.is_displayed()\n",
    "\n",
    "    author_born_location = get_author_birth_location(driver)\n",
    "    location_present = author_born_location.is_displayed()\n",
    "\n",
    "    author_description = get_author_description(driver)\n",
    "    description_present = author_description.is_displayed()\n",
    "                                                              \n",
    "    actual_result = title_present and dob_present and location_present and description_present\n",
    "\n",
    "    # try:\n",
    "    #     assert expected_result == actual_result, \"AUthor page contains title, dob, birth location and description\"\n",
    "    #     print(\"Author page contains all the details of the author\")\n",
    "    # except AssertionError as e:\n",
    "    #     print(e)\n",
    "\n",
    "    try:\n",
    "        test.assertTrue(actual_result)\n",
    "        print(\"Test Pass - The author details page contains all the author details.\")\n",
    "    except AssertionError as e:\n",
    "        print(\"Test Fail - The author details page do not contain all the author details.\")\n",
    "        print(e.args)\n",
    "    \n",
    "    teardown(driver)\n",
    "    "
   ]
  },
  {
   "cell_type": "code",
   "execution_count": 215,
   "id": "d0832977-d1fe-4ebd-be1a-de931f3fcfc1",
   "metadata": {},
   "outputs": [
    {
     "name": "stdout",
     "output_type": "stream",
     "text": [
      "Test Pass - The author details page contains all the author details.\n"
     ]
    }
   ],
   "source": [
    "author_details_page_contains_author_details()"
   ]
  },
  {
   "cell_type": "code",
   "execution_count": 216,
   "id": "fdbc0121-bf03-42f3-8336-612c4166ea45",
   "metadata": {
    "jupyter": {
     "source_hidden": true
    }
   },
   "outputs": [],
   "source": [
    "def author_details_page_consists_author_name():\n",
    "    driver = setup()\n",
    "    wait = WebDriverWait(driver,5)\n",
    "    driver.get(\"https://quotes.toscrape.com/author/Albert-Einstein/\")\n",
    "    title_present = False\n",
    "    \n",
    "    author_title = get_author_title(driver)\n",
    "    title_present = author_title.is_displayed()\n",
    "    actual_result = title_present \n",
    "\n",
    "    # try:\n",
    "    #     assert expected_result == actual_result, \"Author page doesn't consist title.\"\n",
    "    #     print(\"Author page contains author title.\")\n",
    "    # except AssertionError as e:\n",
    "    #     print(e)\n",
    "\n",
    "    try:\n",
    "        test.assertTrue(actual_result)\n",
    "        print(\"Test Pass - The author details page consist of author name\")\n",
    "    except AssertionError as e:\n",
    "        print(\"Test Fail - The author details page does not consist author name\")\n",
    "        print(e.args)\n",
    "    \n",
    "    teardown(driver)\n",
    "    \n",
    "    "
   ]
  },
  {
   "cell_type": "code",
   "execution_count": 217,
   "id": "8152a046-6621-4e05-8e45-83520a7c80d3",
   "metadata": {},
   "outputs": [
    {
     "name": "stdout",
     "output_type": "stream",
     "text": [
      "Test Pass - The author details page consist of author name\n"
     ]
    }
   ],
   "source": [
    "author_details_page_consists_author_name()"
   ]
  },
  {
   "cell_type": "code",
   "execution_count": 218,
   "id": "7f89201f-d131-496e-ade0-e8741f34c783",
   "metadata": {
    "jupyter": {
     "source_hidden": true
    }
   },
   "outputs": [],
   "source": [
    "def author_details_page_consists_author_dob():\n",
    "    driver = setup()\n",
    "    driver.get(\"https://quotes.toscrape.com/author/Albert-Einstein/\")\n",
    "    dob_present = False\n",
    "\n",
    "    author_dob = get_author_dob(driver)\n",
    "    dob_present = author_dob.is_displayed()                                                  \n",
    "    actual_result = dob_present\n",
    "\n",
    "    # try:\n",
    "    #     assert expected_result == actual_result, \"Author details page doesn't consists author dob.\"\n",
    "    #     print(\"Author details page consists author dob\")\n",
    "    # except AssertionError as e:\n",
    "    #     print(e)\n",
    "\n",
    "    try:\n",
    "        test.assertTrue(actual_result)\n",
    "        print(\"Test Pass - The author details page consist of author dob\")\n",
    "    except AssertionError as e:\n",
    "        print(\"Test Fail - The author details page does not consist author dob\")\n",
    "        print(e.args)\n",
    "    \n",
    "    teardown(driver)    \n",
    "    "
   ]
  },
  {
   "cell_type": "code",
   "execution_count": 219,
   "id": "7e772532-1fb1-4cd2-9ef6-02c70d0c3bb6",
   "metadata": {},
   "outputs": [
    {
     "name": "stdout",
     "output_type": "stream",
     "text": [
      "Test Pass - The author details page consist of author dob\n"
     ]
    }
   ],
   "source": [
    "author_details_page_consists_author_dob()"
   ]
  },
  {
   "cell_type": "code",
   "execution_count": 220,
   "id": "7371df70-ac67-4515-802c-f3c9da06b2a5",
   "metadata": {
    "jupyter": {
     "source_hidden": true
    }
   },
   "outputs": [],
   "source": [
    "def author_details_page_consists_author_birth_location():\n",
    "    driver = setup()\n",
    "    driver.get(\"https://quotes.toscrape.com/author/Albert-Einstein/\")\n",
    "    location_present = False\n",
    "    \n",
    "    author_born_location = get_author_birth_location(driver)\n",
    "    location_present = author_born_location.is_displayed()    \n",
    "    actual_result = location_present\n",
    "\n",
    "    # try:\n",
    "    #     assert expected_result == actual_result, \"Author details page doesn't consists of author birth location\"\n",
    "    #     print(\"Author details page consists of author birth location\")\n",
    "    # except AssertionError as e:\n",
    "    #     print(e)\n",
    "\n",
    "    try:\n",
    "        test.assertTrue(actual_result)\n",
    "        print(\"Test Pass - The author details page consist of author birth location\")\n",
    "    except AssertionError as e:\n",
    "        print(\"Test Fail - The author details page does not consist author birth location\")\n",
    "        print(e.args)\n",
    "    \n",
    "    teardown(driver)\n",
    "    "
   ]
  },
  {
   "cell_type": "code",
   "execution_count": 221,
   "id": "6e8d34f8-2be2-4d1f-ab27-55d6d48ba84d",
   "metadata": {},
   "outputs": [
    {
     "name": "stdout",
     "output_type": "stream",
     "text": [
      "Test Pass - The author details page consist of author birth location\n"
     ]
    }
   ],
   "source": [
    "author_details_page_consists_author_birth_location()"
   ]
  },
  {
   "cell_type": "code",
   "execution_count": 222,
   "id": "8d9d88fe-4556-403d-a402-2f20bd5ea25d",
   "metadata": {
    "jupyter": {
     "source_hidden": true
    }
   },
   "outputs": [],
   "source": [
    "def author_details_page_consists_author_description():\n",
    "    driver = setup()\n",
    "    driver.get(\"https://quotes.toscrape.com/author/Albert-Einstein/\")\n",
    "    description_present = False\n",
    "    \n",
    "    author_description = get_author_description(driver)\n",
    "    description_present = author_description.is_displayed()\n",
    "                                                              \n",
    "    actual_result = description_present\n",
    "\n",
    "    # try:\n",
    "    #     assert expected_result == actual_result, \"Author details page doesn't consists of author description\"\n",
    "    #     print(\"Author details page consists of author description\")\n",
    "    # except AssertionError as e:\n",
    "    #     print(e)\n",
    "\n",
    "    try:\n",
    "        test.assertTrue(actual_result)\n",
    "        print(\"Test Pass - The author details page consist of author description\")\n",
    "    except AssertionError as e:\n",
    "        print(\"Test Fail - The author details page does not consist author description\")\n",
    "        print(e.args)\n",
    "    \n",
    "    teardown(driver)\n",
    "    "
   ]
  },
  {
   "cell_type": "code",
   "execution_count": 223,
   "id": "f918d9ea-a5e1-450f-a16c-1a01428df545",
   "metadata": {},
   "outputs": [
    {
     "name": "stdout",
     "output_type": "stream",
     "text": [
      "Test Pass - The author details page consist of author description\n"
     ]
    }
   ],
   "source": [
    "author_details_page_consists_author_description()"
   ]
  },
  {
   "cell_type": "code",
   "execution_count": 224,
   "id": "c0e6a125-93bd-4032-87cf-33c487707568",
   "metadata": {
    "jupyter": {
     "source_hidden": true
    }
   },
   "outputs": [],
   "source": [
    "def all_top_ten_tags_are_of_equal_height():\n",
    "    driver = setup()\n",
    "    tag_size = None\n",
    "    tag_height = set()\n",
    "\n",
    "    top_ten_tag = get_top_ten_tags(driver)\n",
    "    for tag in top_ten_tag:\n",
    "        tag_size = tag.size\n",
    "        tag_height.add(tag_size.get('height'))\n",
    "  \n",
    "    actual_result = len(tag_height)\n",
    "    # try:\n",
    "    #     assert expected_result == actual_result, \"Test Result: Fail - The height of tags in top ten tags are not equal\"\n",
    "    #     print(\"Test Result: Pass - The height of tags in top ten tags are equal\")\n",
    "    # except AssertionError as e:\n",
    "    #     print(e)\n",
    "\n",
    "    try:\n",
    "        test.assertEqual(actual_result,1)\n",
    "        print(\"Test Pass - The height of all the tags in the top ten tags section is equal\")\n",
    "    except AssertionError as e:\n",
    "        print(\"Test Fail - The height of all the tags in the top ten tags section is not equal\")\n",
    "\n",
    "    teardown(driver)\n",
    "    "
   ]
  },
  {
   "cell_type": "code",
   "execution_count": 225,
   "id": "e4d39155-6ca0-4051-9f6b-9b9ae0c639f9",
   "metadata": {},
   "outputs": [
    {
     "name": "stdout",
     "output_type": "stream",
     "text": [
      "Test Fail - The height of all the tags in the top ten tags section is not equal\n"
     ]
    }
   ],
   "source": [
    "all_top_ten_tags_are_of_equal_height()"
   ]
  },
  {
   "cell_type": "code",
   "execution_count": 228,
   "id": "1d72f416-93e7-4b80-8469-fe6812f5e0f9",
   "metadata": {
    "jupyter": {
     "source_hidden": true
    }
   },
   "outputs": [],
   "source": [
    "def all_tags_inside_quote_block_are_of_equal_height():\n",
    "    driver = setup()\n",
    "    tag_size = None\n",
    "    tag_height = set()\n",
    "    \n",
    "    while True:\n",
    "        tags = get_tags_in_quote_block(driver)\n",
    "        for tag in tags:\n",
    "            tag_size = tag.size\n",
    "            tag_height.add(tag_size.get('height'))\n",
    "         \n",
    "        try:\n",
    "            next_page_link(driver).click()\n",
    "           \n",
    "        except Exception as e:\n",
    "            break  \n",
    "   \n",
    "    actual_result = len(tag_height)\n",
    "\n",
    "    # try:\n",
    "    #     assert expected_result == actual_result, \"Test Result: Fail - The height of tags in quote blocks are not equal\"\n",
    "    #     print(\"Test Result: Pass - The height of tags in quote blocks are equal\")\n",
    "    # except AssertionError as e:\n",
    "    #     print(e)\n",
    "    try:\n",
    "        test.assertEqual(actual_result,1)\n",
    "        print(\"Test Pass - All the tags inside the quote blocks have equal height\")\n",
    "    except AssertionError as e:\n",
    "        print(\"Test Fail - All the tags inside the quote blokcs do not have equal height\")\n",
    "        print(e)\n",
    "\n",
    "    teardown(driver)\n",
    "    "
   ]
  },
  {
   "cell_type": "code",
   "execution_count": 229,
   "id": "57a53c6d-5871-459d-a0bb-a74ba867b35e",
   "metadata": {},
   "outputs": [
    {
     "name": "stdout",
     "output_type": "stream",
     "text": [
      "Test Pass - All the tags inside the quote blocks have equal height\n"
     ]
    }
   ],
   "source": [
    "all_tags_inside_quote_block_are_of_equal_height()"
   ]
  },
  {
   "cell_type": "code",
   "execution_count": 230,
   "id": "ed0492be-aaff-4a8d-a981-8cc7f40b2264",
   "metadata": {
    "jupyter": {
     "source_hidden": true
    }
   },
   "outputs": [],
   "source": [
    "def all_quote_blocks_are_of_equal_width():\n",
    "    driver = setup()\n",
    "    expected_result = 1\n",
    "    quote_block_size = None\n",
    "    quote_block_width = set()\n",
    "    \n",
    "\n",
    "    while True:\n",
    "        quote_blocks = get_quote_block(driver)\n",
    "        for block in quote_blocks:\n",
    "            quote_block_size = block.size\n",
    "            quote_block_width.add(quote_block_size.get('width'))\n",
    "            \n",
    "         \n",
    "        try:\n",
    "            next_page_link(driver).click()\n",
    "           \n",
    "        except Exception as e:\n",
    "            break  \n",
    "   \n",
    "    actual_result = len(quote_block_width)\n",
    "\n",
    "    \n",
    "    # try:\n",
    "    #     assert expected_result == actual_result, \"Test Result: Fail - The width of quote blocks are not equal in all pages\"\n",
    "    #     print(\"Test Result: Pass - The width of quote blocks are equal in all pages\")\n",
    "    # except AssertionError as e:\n",
    "    #     print(e)\n",
    "\n",
    "    try:\n",
    "        test.assertEqual(actual_result,expected_result)\n",
    "        print(\"Test Pass - All the quote blocks are of equal width\")\n",
    "    except AssertionError as e:\n",
    "        print(\"Test Fail - All the quote blocks are not of equal width\")\n",
    "        print(e)\n",
    "    "
   ]
  },
  {
   "cell_type": "code",
   "execution_count": 231,
   "id": "aa800c37-1ec1-4cb2-b875-a66519add426",
   "metadata": {},
   "outputs": [
    {
     "name": "stdout",
     "output_type": "stream",
     "text": [
      "Test Pass - All the quote blocks are of equal width\n"
     ]
    }
   ],
   "source": [
    "all_quote_blocks_are_of_equal_width()"
   ]
  },
  {
   "cell_type": "code",
   "execution_count": 318,
   "id": "f1291d8c-cc13-489e-9dbe-391d20c264ea",
   "metadata": {
    "jupyter": {
     "source_hidden": true
    }
   },
   "outputs": [],
   "source": [
    "def all_quote_blocks_have_atleast_one_tag():\n",
    "    driver = setup()\n",
    "    block_counter = len(get_quote_block(driver))\n",
    "    quote_page = 1\n",
    "\n",
    "    while True:\n",
    "        try:\n",
    "            tags_in_a_quote_block = get_tags_in_a_quote_block(driver,block_counter)\n",
    "            tag_count = len(tags_in_a_quote_block)\n",
    "            \n",
    "        except TimeoutException as e:\n",
    "            tag_count = 0\n",
    "            \n",
    "        try:\n",
    "            test.assertGreaterEqual(tag_count,1)\n",
    "            \n",
    "        except AssertionError as e:\n",
    "            print(\"Test Fail\")\n",
    "            print(f\"In page number {quote_page} and quote block {block_counter} doesn't have any tags \")\n",
    "            \n",
    "        block_counter = block_counter - 1\n",
    "\n",
    "        if(block_counter == 0):\n",
    "            try:\n",
    "                block_counter = len(get_quote_block(driver))\n",
    "                next_page_link(driver).click()\n",
    "                quote_page += 1\n",
    "           \n",
    "            except Exception as e:\n",
    "                break  \n",
    "\n",
    "    teardown(driver)"
   ]
  },
  {
   "cell_type": "code",
   "execution_count": 319,
   "id": "743bb8f4-e808-4afe-ab1b-71362c74b103",
   "metadata": {},
   "outputs": [
    {
     "name": "stdout",
     "output_type": "stream",
     "text": [
      "Test Fail\n",
      "In page number 3 and quote block 8 doesn't have any tags \n",
      "Test Fail\n",
      "In page number 5 and quote block 3 doesn't have any tags \n",
      "Test Fail\n",
      "In page number 8 and quote block 9 doesn't have any tags \n"
     ]
    }
   ],
   "source": [
    "all_quote_blocks_have_atleast_one_tag()"
   ]
  },
  {
   "cell_type": "code",
   "execution_count": 367,
   "id": "277d156e-2668-4960-8678-c82d15a1d2c4",
   "metadata": {},
   "outputs": [],
   "source": [
    "def all_tags_in_all_quote_blocks_of_all_pages():\n",
    "    driver = setup()\n",
    "    all_tags_arr = []\n",
    "    all_tags_set = set()\n",
    "\n",
    "    while True:\n",
    "        tags = get_tags_in_quote_block(driver)\n",
    "        for tag in tags:\n",
    "            all_tags_arr.append(tag.text)\n",
    "         \n",
    "        try:\n",
    "            next_page_link(driver).click()\n",
    "           \n",
    "        except Exception as e:\n",
    "            break  \n",
    "\n",
    "    for tags in all_tags_arr:\n",
    "        all_tags_set.add(tags)\n",
    "        \n",
    "    for tags in all_tags_set:\n",
    "        print(tags)\n",
    "\n",
    "    #actual_result = tags_present\n",
    "    \n",
    "    \n",
    "    # try:\n",
    "    #     assert actual_result == expected_result, \"Test Result: Fail - All Quote Blocks do not contain quote tags.\"\n",
    "    #     print(\"Test Result: Pass - All Quotes Block contains quote tags.\")\n",
    "    # except AssertionError as e:\n",
    "    #     print(e)\n",
    "\n",
    "    # try:\n",
    "    #     test.assertTrue(actual_result)\n",
    "    #     print(\"Test Pass - All quotes blocks contain tags\")\n",
    "    # except AssertionError as e:\n",
    "    #     print(\"Test Fail - All quotes blocks do not contain tags\")\n",
    "    #     print(e.args)"
   ]
  },
  {
   "cell_type": "code",
   "execution_count": 368,
   "id": "f692f4b3-e87f-444e-9c60-8aeaf289ad16",
   "metadata": {},
   "outputs": [
    {
     "name": "stdout",
     "output_type": "stream",
     "text": [
      "courage\n",
      "comedy\n",
      "activism\n",
      "read\n",
      "writers\n",
      "romance\n",
      "world\n",
      "mind\n",
      "writing\n",
      "christianity\n",
      "novelist-quotes\n",
      "miracle\n",
      "choices\n",
      "literature\n",
      "connection\n",
      "poetry\n",
      "success\n",
      "knowledge\n",
      "girls\n",
      "inspiration\n",
      "contentment\n",
      "better-life-empathy\n",
      "children\n",
      "difficult\n",
      "fantasy\n",
      "journey\n",
      "education\n",
      "misattributed-eleanor-roosevelt\n",
      "insanity\n",
      "truth\n",
      "imagination\n",
      "indifference\n",
      "drug\n",
      "life\n",
      "reading-books\n",
      "happiness\n",
      "regrets\n",
      "simplicity\n",
      "fear\n",
      "wander\n",
      "authors\n",
      "lying\n",
      "religion\n",
      "paraphrased\n",
      "love\n",
      "edison\n",
      "reading\n",
      "fairytales\n",
      "live-death-love\n",
      "deep-thoughts\n",
      "yourself\n",
      "grown-ups\n",
      "misattributed-john-lennon\n",
      "opposite\n",
      "value\n",
      "failure\n",
      "lack-of-friendship\n",
      "mistakes\n",
      "unhappy-marriage\n",
      "self-indulgence\n",
      "misattributed-to-c-s-lewis\n",
      "growing-up\n",
      "peace\n",
      "write\n",
      "dumbledore\n",
      "chocolate\n",
      "aliteracy\n",
      "marriage\n",
      "bilbo\n",
      "quest\n",
      "planning\n",
      "faith\n",
      "romantic\n",
      "friendship\n",
      "adventure\n",
      "readers\n",
      "obvious\n",
      "simile\n",
      "beatles\n",
      "inspirational\n",
      "age\n",
      "change\n",
      "misattributed-to-mother-teresa\n",
      "lost\n",
      "learning\n",
      "wisdom\n",
      "sinister\n",
      "philosophy\n",
      "books\n",
      "fate\n",
      "open-mind\n",
      "humor\n",
      "god\n",
      "hate\n",
      "sun\n",
      "travel\n",
      "abilities\n",
      "adulthood\n",
      "thought\n",
      "attributed-no-source\n",
      "classic\n",
      "attributed\n",
      "understanding\n",
      "death\n",
      "good\n",
      "heartbreak\n",
      "tea\n",
      "music\n",
      "apathy\n",
      "jane-austen\n",
      "miracles\n",
      "dreams\n",
      "fairy-tales\n",
      "seuss\n",
      "dreaming\n",
      "dreamers\n",
      "food\n",
      "live\n",
      "misattributed-mark-twain\n",
      "integrity\n",
      "understand\n",
      "troubles\n",
      "alcohol\n",
      "elizabeth-bennet\n",
      "library\n",
      "hope\n",
      "women\n",
      "sisters\n",
      "plans\n",
      "thinking\n",
      "the-hunger-games\n",
      "navigation\n",
      "misattributed-to-einstein\n",
      "lack-of-love\n",
      "be-yourself\n",
      "lies\n",
      "friends\n"
     ]
    }
   ],
   "source": [
    "all_tags_in_all_quote_blocks_of_all_pages()"
   ]
  }
 ],
 "metadata": {
  "kernelspec": {
   "display_name": "selenium_env",
   "language": "python",
   "name": "selenium_env"
  },
  "language_info": {
   "codemirror_mode": {
    "name": "ipython",
    "version": 3
   },
   "file_extension": ".py",
   "mimetype": "text/x-python",
   "name": "python",
   "nbconvert_exporter": "python",
   "pygments_lexer": "ipython3",
   "version": "3.12.9"
  }
 },
 "nbformat": 4,
 "nbformat_minor": 5
}
